{
 "cells": [
  {
   "cell_type": "code",
   "execution_count": 2,
   "metadata": {},
   "outputs": [],
   "source": [
    "import pandas as pd\n",
    "import numpy as np\n",
    "import random\n",
    "import spotipy\n",
    "from spotipy.oauth2 import SpotifyClientCredentials"
   ]
  },
  {
   "cell_type": "code",
   "execution_count": 5,
   "metadata": {},
   "outputs": [],
   "source": [
    "songs =  pd.read_csv('songs_clusters.csv')"
   ]
  },
  {
   "cell_type": "code",
   "execution_count": 12,
   "metadata": {},
   "outputs": [
    {
     "data": {
      "text/html": [
       "<div>\n",
       "<style scoped>\n",
       "    .dataframe tbody tr th:only-of-type {\n",
       "        vertical-align: middle;\n",
       "    }\n",
       "\n",
       "    .dataframe tbody tr th {\n",
       "        vertical-align: top;\n",
       "    }\n",
       "\n",
       "    .dataframe thead th {\n",
       "        text-align: right;\n",
       "    }\n",
       "</style>\n",
       "<table border=\"1\" class=\"dataframe\">\n",
       "  <thead>\n",
       "    <tr style=\"text-align: right;\">\n",
       "      <th></th>\n",
       "      <th>track.name</th>\n",
       "      <th>name</th>\n",
       "      <th>uri</th>\n",
       "    </tr>\n",
       "  </thead>\n",
       "  <tbody>\n",
       "    <tr>\n",
       "      <th>6396</th>\n",
       "      <td>Gettin' Over You (feat. Fergie &amp; LMFAO)</td>\n",
       "      <td>LMFAO</td>\n",
       "      <td>spotify:track:7bPu0pkptMwRHIR0VtrCSf</td>\n",
       "    </tr>\n",
       "  </tbody>\n",
       "</table>\n",
       "</div>"
      ],
      "text/plain": [
       "                                   track.name   name  \\\n",
       "6396  Gettin' Over You (feat. Fergie & LMFAO)  LMFAO   \n",
       "\n",
       "                                       uri  \n",
       "6396  spotify:track:7bPu0pkptMwRHIR0VtrCSf  "
      ]
     },
     "execution_count": 12,
     "metadata": {},
     "output_type": "execute_result"
    }
   ],
   "source": [
    "#FOR EXAMPLE: BRAZIL\n",
    "\n",
    "def search_random_title(input_title):\n",
    "    if input_title in songs['track.name'].values:\n",
    "        input_cluster = songs.loc[songs['track.name'] == input_title, 'cluster'].values\n",
    "\n",
    "        # Check if the input title exists in the dataset\n",
    "        if len(input_cluster) > 0:\n",
    "            input_cluster = input_cluster[0]\n",
    "\n",
    "            cluster_songs = songs[songs['cluster'] == input_cluster]['track.name'].tolist()\n",
    "\n",
    "            # Check if there are songs in the cluster\n",
    "            if cluster_songs:\n",
    "                random_title = random.choice(cluster_songs)\n",
    "\n",
    "                while random_title == input_title:\n",
    "                    random_title = random.choice(cluster_songs)\n",
    "\n",
    "                return random_title\n",
    "            else:\n",
    "                return \"No other songs found in the same cluster as input title.\"\n",
    "        else:\n",
    "            return \"Input title not found in the dataset.\"\n",
    "    else:\n",
    "        return \"Sorry, we don't have this title.\"\n",
    "\n",
    "input_title = input(\"Enter a song title: \")\n",
    "result = search_random_title(input_title)\n",
    "\n",
    "if result:\n",
    "    selected_columns = ['track.name', 'name', 'uri']\n",
    "    matching_songs = songs[songs[\"track.name\"] == result]\n",
    "    \n",
    "    if len(matching_songs) > 1:\n",
    "        input_cluster = matching_songs.iloc[0]['cluster']\n",
    "        matching_cluster_songs = matching_songs[matching_songs['cluster'] == input_cluster]\n",
    "        \n",
    "        if len(matching_cluster_songs) > 1:\n",
    "            selected_song_info = matching_cluster_songs.sample(n=1)[selected_columns]\n",
    "        else:\n",
    "            selected_song_info = matching_cluster_songs[selected_columns].sample(n=1)  \n",
    "    else:\n",
    "        selected_song_info = matching_songs[selected_columns]\n",
    "    \n",
    "    selected_song_info = pd.DataFrame(selected_song_info)\n",
    "else:\n",
    "    print(\"No result found for the selected song.\")\n",
    "\n",
    "selected_song_info\n"
   ]
  }
 ],
 "metadata": {
  "kernelspec": {
   "display_name": "Python 3 (ipykernel)",
   "language": "python",
   "name": "python3"
  },
  "language_info": {
   "codemirror_mode": {
    "name": "ipython",
    "version": 3
   },
   "file_extension": ".py",
   "mimetype": "text/x-python",
   "name": "python",
   "nbconvert_exporter": "python",
   "pygments_lexer": "ipython3",
   "version": "3.11.4"
  },
  "orig_nbformat": 4
 },
 "nbformat": 4,
 "nbformat_minor": 2
}
